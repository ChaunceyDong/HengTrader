{
 "cells": [
  {
   "cell_type": "markdown",
   "id": "5ad98784-bd9a-42a9-933d-b50e37bb6bb0",
   "metadata": {
    "user_expressions": []
   },
   "source": [
    "<center><font size=6> 选择合适的交易币种 </font></center>\n",
    "目前还没完成\n",
    "\n",
    "1. 获取全部可交易的货币对，quote_currency 应该是 USDT\n",
    "2. 选择其中价格较低的部分(100内)\n",
    "3. 计算价格回归的斜率，排除斜率较大的（封装为函数）\n",
    "4. 计算方差，选择方差较大的（封装为函数）"
   ]
  },
  {
   "cell_type": "raw",
   "id": "18c01b46-b723-48b5-8125-322a539a4515",
   "metadata": {},
   "source": [
    "import ccxt  # 改用ccxt 对于多个交易所的接口都进行了封装"
   ]
  },
  {
   "cell_type": "code",
   "execution_count": 1,
   "id": "5b478d97-b989-46cf-869f-6b2a0ccf69c9",
   "metadata": {},
   "outputs": [],
   "source": [
    "from huobi.client.market import MarketClient\n",
    "from huobi.constant import *\n",
    "from huobi.utils import *"
   ]
  },
  {
   "cell_type": "code",
   "execution_count": 2,
   "id": "23ed7c89-3256-454f-8619-acc2cdc9179d",
   "metadata": {},
   "outputs": [],
   "source": [
    "import pandas as pd"
   ]
  },
  {
   "cell_type": "code",
   "execution_count": 3,
   "id": "d2087c64-ce52-4917-96a7-2e638d37ec39",
   "metadata": {},
   "outputs": [],
   "source": [
    "def get_market_prices(symbol:str, interval, size:int):\n",
    "    '''获取市场数据，以Dataframe形式返回'''\n",
    "    market_client = MarketClient(init_log=True)\n",
    "    list_obj = market_client.get_candlestick(symbol, interval, size)\n",
    "    # LogInfo.output(\"---- {interval} candlestick for {symbol} ----\".format(interval=interval, symbol=symbol))\n",
    "    # LogInfo.output_list(list_obj)\n",
    "    price_df = Candle_2_Dataframe(list_obj)  # 注意时间顺序，第一条记录是最新记录\n",
    "    price_df = price_df[::-1].reset_index(drop=True)  \n",
    "    return price_df\n",
    "\n",
    "\n",
    "def Candle_2_Dataframe(list_obj):\n",
    "    '''把奇怪的huobi格式转化为Dataframe'''\n",
    "    df = pd.DataFrame({\n",
    "        'open':list(map(lambda x: x.open, list_obj)),\n",
    "        'close': list(map(lambda x: x.close, list_obj)),\n",
    "        'high': list(map(lambda x: x.high, list_obj)),\n",
    "        'low': list(map(lambda x: x.low, list_obj)),\n",
    "        'vol': list(map(lambda x: x.vol, list_obj)),\n",
    "        'count': list(map(lambda x: x.count, list_obj)),\n",
    "        'amount': list(map(lambda x: x.amount, list_obj)),\n",
    "    })\n",
    "    return df"
   ]
  },
  {
   "cell_type": "markdown",
   "id": "b5ba254e-4cee-4344-b61b-9c694269033a",
   "metadata": {
    "user_expressions": []
   },
   "source": [
    "## 1. 获取全部可交易的货币对\n",
    "quote_currency 应该是 USDT"
   ]
  },
  {
   "cell_type": "code",
   "execution_count": 13,
   "id": "ca1faa1d-8dce-4558-9089-11bc6141e98e",
   "metadata": {},
   "outputs": [],
   "source": [
    "generic_client = GenericClient()\n",
    "list_obj = generic_client.get_exchange_currencies()"
   ]
  },
  {
   "cell_type": "code",
   "execution_count": 17,
   "id": "8751783b-708f-4f54-a2c4-350010b66496",
   "metadata": {},
   "outputs": [
    {
     "data": {
      "text/plain": [
       "894"
      ]
     },
     "execution_count": 17,
     "metadata": {},
     "output_type": "execute_result"
    }
   ],
   "source": [
    "len(list_obj)"
   ]
  },
  {
   "cell_type": "code",
   "execution_count": null,
   "id": "1df13686-fe1b-413f-b8ea-fe1bd560419e",
   "metadata": {},
   "outputs": [],
   "source": [
    "from huobi.client.generic import GenericClient\n",
    "from huobi.utils import *\n"
   ]
  },
  {
   "cell_type": "code",
   "execution_count": 25,
   "id": "966d8055-a41a-4693-aecf-82e498ca6ffd",
   "metadata": {
    "tags": []
   },
   "outputs": [],
   "source": [
    "# 获取全部的交易币种\n",
    "generic_client = GenericClient()\n",
    "currency_list_obj = generic_client.get_exchange_symbols()\n",
    "trade_currency_list = []\n",
    "if len(list_obj):\n",
    "    for idx, currency_info in enumerate(currency_list_obj):\n",
    "        if currency_info.quote_currency == 'usdt' and currency_info.state == 'online' :\n",
    "            trade_currency_list.append(currency_info)"
   ]
  },
  {
   "cell_type": "code",
   "execution_count": 26,
   "id": "a7195359-235e-4705-ab51-674c02848ac0",
   "metadata": {},
   "outputs": [
    {
     "name": "stdout",
     "output_type": "stream",
     "text": [
      "Base Currency : ant\n",
      "Quote Currency : eth\n",
      "Price Precision : 6\n",
      "Amount Precision : 2\n",
      "Symbol Partition : main\n",
      "Symbol : anteth\n",
      "State : offline\n",
      "Value Precision : 8\n",
      "Min Order Amount : 0.01\n",
      "Max Order Amount : 250000\n",
      "Min Order Value : 0.001\n",
      "Leverage Ratio : 0\n",
      "Minimum order amount (Limit Order) : 0.01\n",
      "Max order amount (Limit Order) : 250000\n",
      "Min order amount (Sell Market Order) : 0.01\n",
      "Max order amount (Sell Market Order) : 25000\n",
      "Max order value (Buy Market Order) : 380\n",
      "Max order value (In USDT) : 0\n"
     ]
    }
   ],
   "source": [
    "currency_list_obj[0].print_object()"
   ]
  },
  {
   "cell_type": "code",
   "execution_count": 28,
   "id": "ad42a783-16f4-4b34-a9ae-3e230ee51566",
   "metadata": {},
   "outputs": [
    {
     "data": {
      "text/plain": [
       "599"
      ]
     },
     "execution_count": 28,
     "metadata": {},
     "output_type": "execute_result"
    }
   ],
   "source": [
    "len(trade_currency_list)"
   ]
  },
  {
   "cell_type": "markdown",
   "id": "51032944-af78-4d95-9896-a32b2902ba1b",
   "metadata": {
    "user_expressions": []
   },
   "source": [
    "## 2. 选择其中价格较低的部分(100内)"
   ]
  },
  {
   "cell_type": "code",
   "execution_count": 29,
   "id": "f3c50777-c3d0-496e-95a0-180dcaf2de54",
   "metadata": {},
   "outputs": [],
   "source": [
    "symbol_list = [x.symbol for x in trade_currency_list]"
   ]
  },
  {
   "cell_type": "code",
   "execution_count": 30,
   "id": "242483a8-d1ec-4b6d-9ab2-37f87bbab232",
   "metadata": {
    "tags": []
   },
   "outputs": [],
   "source": [
    "market_client = MarketClient()"
   ]
  },
  {
   "cell_type": "code",
   "execution_count": 34,
   "id": "c9d401e3-24c6-43fe-be42-f3ce93d89760",
   "metadata": {},
   "outputs": [],
   "source": [
    "symbols_low_price = []\n",
    "for symbol in symbol_list:\n",
    "    trade_info = None\n",
    "    try:\n",
    "        trade_info = market_client.get_market_trade(symbol=symbol)\n",
    "    except:\n",
    "        print('{0}获取价格信息失败'.format(symbol))\n",
    "        continue\n",
    "    if len(trade_info):\n",
    "        if trade_info[0].price < 100:\n",
    "            symbols_low_price.append(symbol)\n",
    "    else:\n",
    "        print('没有获取到价格信息')"
   ]
  },
  {
   "cell_type": "code",
   "execution_count": 35,
   "id": "6548c240-6a63-42a0-88aa-5ca49b8f4ce1",
   "metadata": {},
   "outputs": [
    {
     "data": {
      "text/plain": [
       "585"
      ]
     },
     "execution_count": 35,
     "metadata": {},
     "output_type": "execute_result"
    }
   ],
   "source": [
    "len(symbols_low_price)"
   ]
  },
  {
   "cell_type": "code",
   "execution_count": 36,
   "id": "370e9deb-4a91-4898-8d79-ec1a2b99270f",
   "metadata": {},
   "outputs": [],
   "source": [
    "import numpy as np"
   ]
  },
  {
   "cell_type": "code",
   "execution_count": 38,
   "id": "47fba7e8-342f-414c-8cf3-45e7b0a60c93",
   "metadata": {},
   "outputs": [],
   "source": [
    "symbols_low_price = np.array(symbols_low_price)"
   ]
  },
  {
   "cell_type": "code",
   "execution_count": 39,
   "id": "6fc4dc4d-f85b-41dd-86a5-7b997d39075e",
   "metadata": {},
   "outputs": [],
   "source": [
    "np.save('symbols_low_price.npy',symbols_low_price)"
   ]
  },
  {
   "cell_type": "markdown",
   "id": "8853d8ed-053b-49b7-aa2b-66c23f25327e",
   "metadata": {
    "user_expressions": []
   },
   "source": [
    "## 3. 计算价格回归的斜率\n",
    "排除斜率较大的（封装为函数）"
   ]
  },
  {
   "cell_type": "markdown",
   "id": "4984ec25-8b98-4f75-8a4f-db52d0ad243f",
   "metadata": {
    "user_expressions": []
   },
   "source": [
    "### 3.1 从交易量角度判断流动性"
   ]
  },
  {
   "cell_type": "code",
   "execution_count": null,
   "id": "25a2ae6d-7996-4b60-b01f-b329cc16b1a3",
   "metadata": {},
   "outputs": [],
   "source": [
    "market_client = MarketClient()"
   ]
  },
  {
   "cell_type": "code",
   "execution_count": 67,
   "id": "9baf526d-a6da-45c4-96db-9f950736b500",
   "metadata": {
    "tags": []
   },
   "outputs": [],
   "source": [
    "volume_list = []\n",
    "for symbol in symbols_low_price:\n",
    "    obj = market_client.get_market_detail(symbol)\n",
    "    volume_list.append(obj.vol)"
   ]
  },
  {
   "cell_type": "code",
   "execution_count": 68,
   "id": "b8055773-ed06-4a0d-890c-8b8cc4fca78b",
   "metadata": {},
   "outputs": [],
   "source": [
    "import pandas as pd"
   ]
  },
  {
   "cell_type": "code",
   "execution_count": 70,
   "id": "8708b1b6-274f-4a9c-ab11-69cca4160631",
   "metadata": {},
   "outputs": [],
   "source": [
    "Currency_info_df = pd.DataFrame({\n",
    "    'symbol':symbols_low_price,\n",
    "    'volume':volume_list,})\n"
   ]
  },
  {
   "cell_type": "code",
   "execution_count": 97,
   "id": "b28fc324-fe6d-4807-9cde-3910167865e0",
   "metadata": {
    "tags": []
   },
   "outputs": [],
   "source": [
    "symbols_candidates = Currency_info_df.sort_values(by='volume', ascending=False)[:50].symbol.values\n",
    "Currency_candidate_df = Currency_info_df.sort_values(by='volume', ascending=False)[:50]\n",
    "Currency_candidate_df.reset_index(inplace=True, drop=True)"
   ]
  },
  {
   "cell_type": "markdown",
   "id": "094fc144-b0b3-440d-8b04-a05a596b17d5",
   "metadata": {
    "user_expressions": []
   },
   "source": [
    "### 3.2 计算过去24h的分钟频率方差"
   ]
  },
  {
   "cell_type": "code",
   "execution_count": 105,
   "id": "e58eb0d5-739c-461a-808d-ff1fb6d5167d",
   "metadata": {
    "tags": []
   },
   "outputs": [],
   "source": [
    "interval = CandlestickInterval.MIN1\n",
    "std_list = []\n",
    "for symbol in symbols_candidates:\n",
    "    price_df = get_market_prices(symbol, interval, size=2000)\n",
    "    std_list.append(np.std(price_df.close))"
   ]
  },
  {
   "cell_type": "code",
   "execution_count": 107,
   "id": "647ab063-ab8a-48d1-a2bd-62e695956c70",
   "metadata": {},
   "outputs": [],
   "source": [
    "Currency_candidate_df['std'] = std_list"
   ]
  },
  {
   "cell_type": "code",
   "execution_count": 116,
   "id": "e49e88fb-4312-477e-b977-9b68b1b0251b",
   "metadata": {},
   "outputs": [],
   "source": [
    "# 选择方差较大的20个symbols\n",
    "Currency_candidate_df = Currency_candidate_df.sort_values(by='std', ascending=False)[:20]\n",
    "candidate_symbols = Currency_candidate_df.symbol.values"
   ]
  },
  {
   "cell_type": "code",
   "execution_count": 120,
   "id": "3f988784-1138-48f3-a0d0-a8f442268901",
   "metadata": {},
   "outputs": [],
   "source": [
    "# 保存起来\n",
    "np.save('candidate_symbols', candidate_symbols)"
   ]
  },
  {
   "cell_type": "code",
   "execution_count": 121,
   "id": "c5d16346-1a18-4fd4-9a9e-a9458d758b29",
   "metadata": {},
   "outputs": [
    {
     "data": {
      "text/plain": [
       "array(['compusdt', 'aaveusdt', 'solusdt', 'bsvusdt', 'aptusdt', 'etcusdt',\n",
       "       'ordiusdt', 'avaxusdt', 'fxsusdt', 'axsusdt', 'maskusdt',\n",
       "       'tonusdt', 'filusdt', 'dydxusdt', 'revousdt', 'arbusdt', 'ldousdt',\n",
       "       'yggusdt', 'xrpusdt', 'maticusdt'], dtype=object)"
      ]
     },
     "execution_count": 121,
     "metadata": {},
     "output_type": "execute_result"
    }
   ],
   "source": [
    "candidate_symbols"
   ]
  },
  {
   "cell_type": "code",
   "execution_count": 125,
   "id": "126dc933-416b-434c-a523-04bd9b92c6ff",
   "metadata": {},
   "outputs": [],
   "source": [
    "base =  [x[:-4] for x in candidate_symbols]"
   ]
  },
  {
   "cell_type": "code",
   "execution_count": 128,
   "id": "aa27cf86-6f6f-4959-b504-4dd6edec940c",
   "metadata": {},
   "outputs": [
    {
     "data": {
      "text/plain": [
       "True"
      ]
     },
     "execution_count": 128,
     "metadata": {},
     "output_type": "execute_result"
    }
   ],
   "source": [
    " 'comp' in base"
   ]
  },
  {
   "cell_type": "code",
   "execution_count": 143,
   "id": "5bce1dbb-4749-403f-afd0-b77d8b3701ff",
   "metadata": {},
   "outputs": [],
   "source": [
    "currency_info_df = pd.DataFrame()\n",
    "\n",
    "currency_info_df[\"symbol\"] = candidate_symbols\n",
    "currency_info_df[\"base_currency\"] = base\n",
    "currency_info_df = currency_info_df.set_index(\"symbol\")"
   ]
  },
  {
   "cell_type": "code",
   "execution_count": 149,
   "id": "e8216288-6056-4d3d-95cd-98ed33b14019",
   "metadata": {},
   "outputs": [],
   "source": [
    "currency_info_df['x'] = 0"
   ]
  },
  {
   "cell_type": "code",
   "execution_count": 151,
   "id": "7587b99f-38de-4e6a-9651-5322f765357e",
   "metadata": {},
   "outputs": [
    {
     "name": "stderr",
     "output_type": "stream",
     "text": [
      "F:\\ProgramData\\Anaconda3\\envs\\pythonlab\\lib\\site-packages\\pandas\\core\\series.py:1056: SettingWithCopyWarning: \n",
      "A value is trying to be set on a copy of a slice from a DataFrame\n",
      "\n",
      "See the caveats in the documentation: https://pandas.pydata.org/pandas-docs/stable/user_guide/indexing.html#returning-a-view-versus-a-copy\n",
      "  cacher_needs_updating = self._check_is_chained_assignment_possible()\n"
     ]
    }
   ],
   "source": [
    "currency_info_df.loc[\"aaveusdt\"]['x'] = 10"
   ]
  },
  {
   "cell_type": "code",
   "execution_count": 158,
   "id": "cf4d0b00-5ab7-4731-8773-d8e792a03381",
   "metadata": {},
   "outputs": [],
   "source": [
    "currency_info_df.loc[\"aaveusdt\",'x'] = 10"
   ]
  },
  {
   "cell_type": "code",
   "execution_count": 160,
   "id": "81dc4e6e-2418-477f-8919-75388bfc9138",
   "metadata": {},
   "outputs": [
    {
     "data": {
      "text/plain": [
       "'compusdt'"
      ]
     },
     "execution_count": 160,
     "metadata": {},
     "output_type": "execute_result"
    }
   ],
   "source": [
    "currency_info_df.index[0]"
   ]
  },
  {
   "cell_type": "code",
   "execution_count": 167,
   "id": "bb23d47d-0fe2-4cef-98ac-2d6cfc2ceaea",
   "metadata": {},
   "outputs": [],
   "source": [
    "x = [10]"
   ]
  },
  {
   "cell_type": "code",
   "execution_count": 168,
   "id": "dc1316a2-ecbf-44a2-b99c-8f1a22df2145",
   "metadata": {},
   "outputs": [],
   "source": [
    "a = [x]"
   ]
  },
  {
   "cell_type": "code",
   "execution_count": 169,
   "id": "577db5b8-a58b-46da-b331-fbba0e349f57",
   "metadata": {},
   "outputs": [
    {
     "data": {
      "text/plain": [
       "[[10]]"
      ]
     },
     "execution_count": 169,
     "metadata": {},
     "output_type": "execute_result"
    }
   ],
   "source": [
    "a"
   ]
  },
  {
   "cell_type": "code",
   "execution_count": 170,
   "id": "e6b53506-efd4-48d2-9596-46a2f62e8061",
   "metadata": {},
   "outputs": [],
   "source": [
    "x = [3]"
   ]
  },
  {
   "cell_type": "code",
   "execution_count": 172,
   "id": "428f4740-fb16-42a4-8c7d-87a9c9f6acb0",
   "metadata": {},
   "outputs": [],
   "source": [
    "if 0:\n",
    "    print('xxx')"
   ]
  },
  {
   "cell_type": "code",
   "execution_count": null,
   "id": "b107a5dd-02e8-422f-aefa-288ee5c06183",
   "metadata": {},
   "outputs": [],
   "source": []
  }
 ],
 "metadata": {
  "kernelspec": {
   "display_name": "pythonlab(python3.8)",
   "language": "python",
   "name": "pythonlabkernel"
  },
  "language_info": {
   "codemirror_mode": {
    "name": "ipython",
    "version": 3
   },
   "file_extension": ".py",
   "mimetype": "text/x-python",
   "name": "python",
   "nbconvert_exporter": "python",
   "pygments_lexer": "ipython3",
   "version": "3.8.0"
  }
 },
 "nbformat": 4,
 "nbformat_minor": 5
}
