{
 "cells": [
  {
   "cell_type": "markdown",
   "id": "659817c7-cd99-4c72-9418-0cce12c6e194",
   "metadata": {
    "user_expressions": []
   },
   "source": [
    "<center><font size=6> xgboost预测实验 </font></center>\n",
    "主要是考虑能否通过xgboost来找到合适的买点。将价格预测作为2分类问题\n",
    "\n",
    "流程：\n",
    "1. 整理训练数据\n",
    "2. 直接训练\n",
    "\n",
    "重要：\n",
    "1. 需要更长的时间历史数据，保留7月的数据用于回测。数据集应该划分为 train/val/test\n",
    "    - 训练集可以随机采样，但是测试集需要不重合地划分。\n",
    "2. 看不出交易量是否有用，所以需要做对照试验\n",
    "\n",
    "\n",
    "结论："
   ]
  },
  {
   "cell_type": "code",
   "execution_count": 1,
   "id": "2ad49dc0-8595-4873-8f92-495dd53b566b",
   "metadata": {},
   "outputs": [],
   "source": [
    "import pandas as pd\n",
    "import numpy as np"
   ]
  },
  {
   "cell_type": "code",
   "execution_count": 2,
   "id": "f6b0db69-a097-421a-905b-55e186e36cb2",
   "metadata": {},
   "outputs": [],
   "source": [
    "import os"
   ]
  },
  {
   "cell_type": "code",
   "execution_count": 3,
   "id": "7782c3b7-8bf0-40d7-ace5-bdb679bdb7e0",
   "metadata": {},
   "outputs": [],
   "source": [
    "class Data_Loader(object):\n",
    "    \n",
    "    def __init__(self):\n",
    "        pass\n",
    "    \n",
    "    def get_price_df(self, file_list):\n",
    "        '''\n",
    "        从file_list读取数据，然后以df形式返回。\n",
    "        '''\n",
    "        concatenated_df = pd.DataFrame()\n",
    "        if len(file_list) > 1:\n",
    "            for temp_file in file_list:\n",
    "                temp_path = file_path + temp_file\n",
    "                # 从本地读取价量数据\n",
    "                temp_price_df = pd.read_csv(temp_path, header=None)\n",
    "                temp_price_df.columns = ['open_time','open','high','low','close','volume','close_time','quote_volume','count',\n",
    "                                    'taker_buy_volume','taker_buy_quote_volume','ignore']\n",
    "                concatenated_df = pd.concat([concatenated_df, temp_price_df])\n",
    "                \n",
    "        else:\n",
    "            temp_file = file_list[0]\n",
    "            temp_path = file_path + temp_file\n",
    "            # 从本地读取价量数据\n",
    "            temp_price_df = pd.read_csv(temp_path, header=None)\n",
    "            temp_price_df.columns = ['open_time','open','high','low','close','volume','close_time','quote_volume','count',\n",
    "                                'taker_buy_volume','taker_buy_quote_volume','ignore']\n",
    "            concatenated_df = temp_price_df\n",
    "        \n",
    "        concatenated_df.reset_index(drop=True, inplace=True)\n",
    "        return concatenated_df\n",
    "    \n",
    "    def calculate_theta(self, Boll_df, price_df, target_column_list=[\"close\"]):\n",
    "        '''\n",
    "        计算theta指标\n",
    "        Boll_df: 用于存放指标的df\n",
    "        price_df：原始价格的df\n",
    "        '''\n",
    "        for target_column in target_column_list:\n",
    "            # theta\n",
    "            Boll_df['mean_20_'+target_column] = price_df[[target_column]].ewm(span=20, adjust=False).mean()\n",
    "            Boll_df['std_20_'+target_column] = price_df[[target_column]].ewm(span=20, adjust=False).std()\n",
    "            Boll_df[target_column] = price_df[target_column]\n",
    "\n",
    "            # 计算偏离度 theta = (p - ma) / sigma\n",
    "            Boll_df['theta_'+target_column] = (Boll_df[target_column] - Boll_df['mean_20_'+target_column]) / Boll_df['std_20_'+target_column]\n",
    "\n",
    "        return Boll_df\n",
    "    \n",
    "    def calculate_theta_prospective_earnings(self, price_df):\n",
    "        '''\n",
    "        计算预期收益率\n",
    "        '''\n",
    "        # 计算未来均价\n",
    "        price_df['mean_10_future'] = price_df[['close']].ewm(span=10, adjust=False).mean().shift(-10)  # 首先计算均线，然后错位10个（也就是对应于未来的均价）\n",
    "        # 计算未来收益\n",
    "        price_df['prospective_earnings'] = (price_df['mean_10_future'] - price_df['close']) / price_df['close']     \n",
    "        price_df['prospective_earnings_bool'] = price_df['prospective_earnings'] > 0\n",
    "        price_df['prospective_earnings_1'] = (price_df['close'].shift(-2) - price_df['close']) / price_df['close'] \n",
    "        price_df['prospective_earnings_1'] = price_df['prospective_earnings_1'] > 0   # 等于零视为下跌\n",
    "        return price_df"
   ]
  },
  {
   "cell_type": "raw",
   "id": "09ab2269-b764-4315-90b6-08f3789ed8b7",
   "metadata": {},
   "source": [
    "# 肉眼看不出来volume有啥影响\n",
    "binance_price_df[['close','volume']].iplot(subplots=True,shape=(2,1),shared_xaxes=True,vertical_spacing=.02)"
   ]
  },
  {
   "cell_type": "markdown",
   "id": "3197d41c-6114-4385-b4db-2944c25f2251",
   "metadata": {
    "user_expressions": []
   },
   "source": [
    "# 1.数据准备 "
   ]
  },
  {
   "cell_type": "code",
   "execution_count": 4,
   "id": "0da1ad18-3803-47ad-9209-5d56d2bfaf38",
   "metadata": {},
   "outputs": [],
   "source": [
    "import random"
   ]
  },
  {
   "cell_type": "code",
   "execution_count": 5,
   "id": "e9bc6262-4fe8-45e0-bfad-6b126c8bcba1",
   "metadata": {},
   "outputs": [],
   "source": [
    "file_path = \"../data/cc_data/\"\n",
    "file_list = os.listdir(file_path)\n",
    "file_list = [x if \"csv\" in x else None for x in file_list] # 排除文件夹\n",
    "file_list.remove(None)"
   ]
  },
  {
   "cell_type": "code",
   "execution_count": 6,
   "id": "776d42c8-2ee0-4ee9-bd04-904d59df5bc9",
   "metadata": {},
   "outputs": [],
   "source": [
    "file_list.remove(None)"
   ]
  },
  {
   "cell_type": "raw",
   "id": "d103a963-da0a-4682-925c-2ef6cb3b245a",
   "metadata": {},
   "source": [
    "file_list = file_list[:12]"
   ]
  },
  {
   "cell_type": "code",
   "execution_count": 7,
   "id": "618ff255-d4ef-4c65-a19e-97e277a4c35f",
   "metadata": {},
   "outputs": [],
   "source": [
    "data_loader = Data_Loader()"
   ]
  },
  {
   "cell_type": "code",
   "execution_count": 8,
   "id": "bfa8ca8c-10cc-4a1f-8a77-cc12c3d9d652",
   "metadata": {},
   "outputs": [
    {
     "data": {
      "text/plain": [
       "50"
      ]
     },
     "execution_count": 8,
     "metadata": {},
     "output_type": "execute_result"
    }
   ],
   "source": [
    "len(file_list)"
   ]
  },
  {
   "cell_type": "code",
   "execution_count": 9,
   "id": "a629b75f-90d0-494f-b241-00656665bc31",
   "metadata": {},
   "outputs": [],
   "source": [
    "train_df = data_loader.get_price_df(file_list[:40])\n",
    "test_df = data_loader.get_price_df(file_list[40:])"
   ]
  },
  {
   "cell_type": "markdown",
   "id": "3849239f-af78-4ce0-8769-5333de88b84f",
   "metadata": {
    "user_expressions": []
   },
   "source": [
    "## 1.1 计算技术指标"
   ]
  },
  {
   "cell_type": "code",
   "execution_count": 10,
   "id": "646e5df5-8b08-41a5-b94a-3c6fa108ccf9",
   "metadata": {},
   "outputs": [],
   "source": [
    "train_theta_df = pd.DataFrame()\n",
    "test_theta_df = pd.DataFrame()\n",
    "\n",
    "train_theta_df[\"close\"] = train_df[\"close\"]\n",
    "test_theta_df[\"close\"] = test_df[\"close\"]\n",
    "\n",
    "target_columns_list = ['open','high','low','close','quote_volume', 'taker_buy_volume', 'taker_buy_quote_volume']  # 需要计算theta的对应列\n",
    "# target_columns_list = ['close'] \n",
    "\n",
    "train_theta_df = data_loader.calculate_theta(train_theta_df, train_df, target_columns_list)\n",
    "test_theta_df = data_loader.calculate_theta(test_theta_df, test_df, target_columns_list)\n",
    "\n",
    "train_theta_df.dropna(inplace=True)\n",
    "test_theta_df.dropna(inplace=True)"
   ]
  },
  {
   "cell_type": "markdown",
   "id": "8c51f340-fdf9-4c21-949a-d6f415b46b5c",
   "metadata": {
    "user_expressions": []
   },
   "source": [
    "## 1.3 采样X和y"
   ]
  },
  {
   "cell_type": "code",
   "execution_count": 11,
   "id": "47c09278-acb2-428b-bf4f-995e2e7ba76f",
   "metadata": {},
   "outputs": [],
   "source": [
    "train_theta_df = data_loader.calculate_theta_prospective_earnings(train_theta_df)\n",
    "test_theta_df = data_loader.calculate_theta_prospective_earnings(test_theta_df)"
   ]
  },
  {
   "cell_type": "code",
   "execution_count": 12,
   "id": "11151da0-fd0e-4282-aff9-04c4de0b2148",
   "metadata": {},
   "outputs": [],
   "source": [
    "train_theta_df.dropna(inplace=True)\n",
    "test_theta_df.dropna(inplace=True)"
   ]
  },
  {
   "cell_type": "code",
   "execution_count": 38,
   "id": "a3321ddf-0bbb-4ba7-b1c1-f0ca39d876be",
   "metadata": {},
   "outputs": [],
   "source": [
    "def Sample_random(data_df, target_columns_list, y_columns_list=[\"prospective_earnings\"], sample_num=20, time_range=5):\n",
    "    '''随机采样'''\n",
    "    # 采样随机时间点\n",
    "    X_df = data_df[target_columns_list]\n",
    "    pandas_concat_list = [X_df.shift(i) for i in range(time_range)]  # 通过将数据合并到同一行，加速采样过程\n",
    "    pandas_concat_list.append(data_df[y_columns_list])\n",
    "    concated_data_df = pd.concat(pandas_concat_list, axis=1)\n",
    "    concated_data_df.dropna(inplace=True)\n",
    "    concated_data_df.reset_index(inplace=True, drop=True)\n",
    "    \n",
    "\n",
    "    index = np.random.permutation(np.arange(0, len(concated_data_df)))  # 按照固定间隔获取索引，并乱序\n",
    "    random_index = index[:sample_num]\n",
    "    \n",
    "    \n",
    "    sampled_df = concated_data_df.loc[random_index]# 通过切片取出目标X,y\n",
    "    X_sample = np.array(sampled_df.iloc[:,:-len(y_columns_list)])    # y部分固定在末尾\n",
    "    y_sample_df = sampled_df[y_columns_list]\n",
    "    \n",
    "    assert X_sample.shape[0] == y_sample_df.shape[0] , '采样X与y数量不一致'\n",
    "    \n",
    "    return X_sample, y_sample_df"
   ]
  },
  {
   "cell_type": "code",
   "execution_count": 39,
   "id": "81e0713f-c6fa-4506-b2ca-466f01e10ae9",
   "metadata": {},
   "outputs": [],
   "source": [
    "target_x_columns = [\"theta_\"+x for x in target_columns_list]\n",
    "target_y_columns = [\"prospective_earnings\", \"prospective_earnings_bool\"]"
   ]
  },
  {
   "cell_type": "code",
   "execution_count": 40,
   "id": "32f03a8f-4557-4b9c-8ddc-311f6637c5aa",
   "metadata": {},
   "outputs": [],
   "source": [
    "n_train = 500000\n",
    "n_test =  200000"
   ]
  },
  {
   "cell_type": "code",
   "execution_count": 41,
   "id": "bfdd8fb7-b407-4106-90d4-5df256b678f7",
   "metadata": {},
   "outputs": [],
   "source": [
    "origin_train_X, origin_train_y = Sample_random(train_theta_df, target_x_columns, target_y_columns, sample_num=n_train)\n",
    "origin_test_X, origin_test_y = Sample_random(test_theta_df, target_x_columns, target_y_columns, sample_num=n_test)"
   ]
  },
  {
   "cell_type": "code",
   "execution_count": 42,
   "id": "c2c3c35b-d0b7-4e80-884c-df92ddcde603",
   "metadata": {},
   "outputs": [
    {
     "name": "stdout",
     "output_type": "stream",
     "text": [
      "sample_X.shape:  (500000, 35)\n",
      "sample_y.shape:  (500000, 2)\n"
     ]
    }
   ],
   "source": [
    "print(\"sample_X.shape: \", origin_train_X.shape)\n",
    "print(\"sample_y.shape: \", origin_train_y.shape)"
   ]
  },
  {
   "cell_type": "code",
   "execution_count": 43,
   "id": "a64d4a69-bb39-4253-85d3-5cc55a3890dc",
   "metadata": {},
   "outputs": [
    {
     "name": "stdout",
     "output_type": "stream",
     "text": [
      "sample_test_X.shape:  (200000, 35)\n",
      "sample_test_y.shape:  (200000, 2)\n"
     ]
    }
   ],
   "source": [
    "print(\"sample_test_X.shape: \", origin_test_X.shape)\n",
    "print(\"sample_test_y.shape: \", origin_test_y.shape)"
   ]
  },
  {
   "cell_type": "markdown",
   "id": "7b72f7eb-2572-47c5-a2b9-9be83dddcf9f",
   "metadata": {
    "user_expressions": []
   },
   "source": [
    "# 2. 模型训练"
   ]
  },
  {
   "cell_type": "code",
   "execution_count": 44,
   "id": "6f1031d4-9155-48cb-a941-1f72ace7a85b",
   "metadata": {},
   "outputs": [],
   "source": [
    "from xgboost import XGBClassifier"
   ]
  },
  {
   "cell_type": "code",
   "execution_count": 45,
   "id": "c16da0cf-c38b-48b8-8971-dd7a7198069b",
   "metadata": {},
   "outputs": [],
   "source": [
    "sample_X, sample_y = origin_train_X, origin_train_y[\"prospective_earnings_bool\"].values\n",
    "sample_X = sample_X.reshape((len(sample_X),-1))\n",
    "\n",
    "test_X = origin_test_X.reshape((len(origin_test_X),-1))\n",
    "test_y = origin_test_y[\"prospective_earnings_bool\"].values"
   ]
  },
  {
   "cell_type": "code",
   "execution_count": 46,
   "id": "b04232b5-6b7d-48be-a33d-3c97d5c15323",
   "metadata": {},
   "outputs": [],
   "source": [
    "kwars = {\n",
    "            \"eval_metric\": \"rmse\",\n",
    "            \"colsample_bytree\": 0.8879,\n",
    "            \"eta\": 0.0421,\n",
    "            \"max_depth\": 8,\n",
    "            \"n_estimators\": 700,\n",
    "            \"subsample\": 0.8789,\n",
    "            \"nthread\": 20,\n",
    "}\n",
    "\n",
    "xgbc_model = XGBClassifier(**kwars)"
   ]
  },
  {
   "cell_type": "code",
   "execution_count": 47,
   "id": "6c3f049f-088e-4a70-aaa7-03524326e4dc",
   "metadata": {},
   "outputs": [],
   "source": [
    "from collections import Counter"
   ]
  },
  {
   "cell_type": "code",
   "execution_count": 48,
   "id": "d7ea03a2-864d-45fd-b08b-2fc36905974f",
   "metadata": {},
   "outputs": [
    {
     "data": {
      "text/plain": [
       "XGBClassifier(base_score=0.5, booster='gbtree', colsample_bylevel=1,\n",
       "              colsample_bynode=1, colsample_bytree=0.8879, eta=0.0421,\n",
       "              eval_metric='rmse', gamma=0, gpu_id=-1, importance_type='gain',\n",
       "              interaction_constraints='', learning_rate=0.0421000011,\n",
       "              max_delta_step=0, max_depth=8, min_child_weight=1, missing=nan,\n",
       "              monotone_constraints='()', n_estimators=700, n_jobs=20,\n",
       "              nthread=20, num_parallel_tree=1, objective='binary:logistic',\n",
       "              random_state=0, reg_alpha=0, reg_lambda=1, scale_pos_weight=1,\n",
       "              subsample=0.8789, tree_method='exact', validate_parameters=1,\n",
       "              verbosity=None)"
      ]
     },
     "execution_count": 48,
     "metadata": {},
     "output_type": "execute_result"
    }
   ],
   "source": [
    "xgbc_model.fit(sample_X, sample_y)"
   ]
  },
  {
   "cell_type": "markdown",
   "id": "a8a8633f-6280-4d92-bbc6-50594271ef95",
   "metadata": {
    "user_expressions": []
   },
   "source": [
    "# 3. 模型评价"
   ]
  },
  {
   "cell_type": "code",
   "execution_count": 49,
   "id": "8952b03c-5098-4fab-81cd-57ea6b3b7f60",
   "metadata": {},
   "outputs": [],
   "source": [
    "from sklearn.metrics import f1_score, roc_curve, recall_score, precision_score, auc\n",
    "import matplotlib.pyplot as plt"
   ]
  },
  {
   "cell_type": "code",
   "execution_count": 50,
   "id": "cde72474-4f6d-44d4-bfad-822282915bc9",
   "metadata": {},
   "outputs": [
    {
     "name": "stdout",
     "output_type": "stream",
     "text": [
      "预测的正例数： 100952\n",
      "测试集合正例数： 99610\n",
      "f1_score(特殊计算)： 0.5544420179296178\n",
      "recall_score(故障被找到率)： 0.558176889870495\n",
      "precision_score(预测故障时，确实故障率)： 0.5507567953086615\n"
     ]
    },
    {
     "data": {
      "image/png": "[encoded data removed]",
      "text/plain": [
       "<Figure size 432x288 with 1 Axes>"
      ]
     },
     "metadata": {
      "needs_background": "light"
     },
     "output_type": "display_data"
    }
   ],
   "source": [
    "# xgboost 的roc曲线\n",
    "\n",
    "Y_pred = xgbc_model.predict_proba(test_X)[:, 1]\n",
    "Y_pred_lab = xgbc_model.predict(test_X)\n",
    "fpr, tpr, thresholds = roc_curve(test_y, Y_pred)\n",
    "roc_auc = auc(fpr, tpr)\n",
    "plt.plot([0, 1], [0, 1], 'k--')\n",
    "plt.plot(fpr, tpr)\n",
    "plt.title(f'xgboost auc:{roc_auc :.3f}, f1 score:{f1_score(test_y, Y_pred_lab) :.3f}')\n",
    "\n",
    "print('预测的正例数：',Y_pred_lab.sum())\n",
    "print('测试集合正例数：', test_y.sum())\n",
    "\n",
    "print('f1_score(特殊计算)：', f1_score(test_y, Y_pred_lab))\n",
    "print('recall_score(故障被找到率)：', recall_score(test_y, Y_pred_lab))\n",
    "print('precision_score(预测故障时，确实故障率)：', precision_score(test_y, Y_pred_lab))"
   ]
  },
  {
   "cell_type": "code",
   "execution_count": 51,
   "id": "a970284c-06de-4b29-b4a2-7b21e76ede6e",
   "metadata": {},
   "outputs": [
    {
     "data": {
      "text/plain": [
       "0.019142218065240794"
      ]
     },
     "execution_count": 51,
     "metadata": {},
     "output_type": "execute_result"
    }
   ],
   "source": [
    "origin_test_y[Y_pred_lab].prospective_earnings.mean() * 100"
   ]
  },
  {
   "cell_type": "code",
   "execution_count": 52,
   "id": "b60c0613-f188-4a37-bea5-0735f04fe9a5",
   "metadata": {},
   "outputs": [
    {
     "data": {
      "text/plain": [
       "-0.017134150826945405"
      ]
     },
     "execution_count": 52,
     "metadata": {},
     "output_type": "execute_result"
    }
   ],
   "source": [
    "origin_test_y[~Y_pred_lab].prospective_earnings.mean()* 100"
   ]
  }
 ],
 "metadata": {
  "kernelspec": {
   "display_name": "pythonlab(python3.8)",
   "language": "python",
   "name": "pythonlabkernel"
  },
  "language_info": {
   "codemirror_mode": {
    "name": "ipython",
    "version": 3
   },
   "file_extension": ".py",
   "mimetype": "text/x-python",
   "name": "python",
   "nbconvert_exporter": "python",
   "pygments_lexer": "ipython3",
   "version": "3.8.0"
  }
 },
 "nbformat": 4,
 "nbformat_minor": 5
}
