{
 "cells": [
  {
   "cell_type": "markdown",
   "id": "659817c7-cd99-4c72-9418-0cce12c6e194",
   "metadata": {
    "user_expressions": []
   },
   "source": [
    "<center><font size=6> xgboost预测实验 </font></center>\n",
    "主要是考虑能否通过xgboost来找到合适的买点。\n",
    "\n",
    "流程：\n",
    "1. 整理训练数据\n",
    "2. 直接训练\n",
    "\n",
    "重要：\n",
    "1. 需要更长的时间历史数据，保留7月的数据用于回测。数据集应该划分为 train/val/test\n",
    "    - 训练集可以随机采样，但是测试集需要不重合地划分。\n",
    "2. 看不出交易量是否有用，所以需要做对照试验\n",
    "\n",
    "\n",
    "结论：\n",
    "1. IC计算的结果不稳定。尤其是收到数据量的影响较大。\n",
    "2. 用xgboost进行回归的结果是非常不可靠的，所以接下来还是转化为分类问题处理。"
   ]
  },
  {
   "cell_type": "code",
   "execution_count": null,
   "id": "8d73fef6-b465-49a7-9854-e9033a55b1d4",
   "metadata": {},
   "outputs": [],
   "source": []
  },
  {
   "cell_type": "code",
   "execution_count": 1,
   "id": "2ad49dc0-8595-4873-8f92-495dd53b566b",
   "metadata": {},
   "outputs": [],
   "source": [
    "import pandas as pd\n",
    "import numpy as np"
   ]
  },
  {
   "cell_type": "code",
   "execution_count": 2,
   "id": "f6b0db69-a097-421a-905b-55e186e36cb2",
   "metadata": {},
   "outputs": [],
   "source": [
    "import os"
   ]
  },
  {
   "cell_type": "code",
   "execution_count": 102,
   "id": "7782c3b7-8bf0-40d7-ace5-bdb679bdb7e0",
   "metadata": {},
   "outputs": [],
   "source": [
    "class Data_Loader(object):\n",
    "    \n",
    "    def __init__(self):\n",
    "        pass\n",
    "    \n",
    "    def get_price_df(self, file_list):\n",
    "        '''\n",
    "        从file_list读取数据，然后以df形式返回。\n",
    "        '''\n",
    "        concatenated_df = pd.DataFrame()\n",
    "        if len(file_list) > 1:\n",
    "            for temp_file in file_list:\n",
    "                temp_path = file_path + temp_file\n",
    "                # 从本地读取价量数据\n",
    "                temp_price_df = pd.read_csv(temp_path, header=None)\n",
    "                temp_price_df.columns = ['open_time','open','high','low','close','volume','close_time','quote_volume','count',\n",
    "                                    'taker_buy_volume','taker_buy_quote_volume','ignore']\n",
    "                concatenated_df = pd.concat([concatenated_df, temp_price_df])\n",
    "                \n",
    "        else:\n",
    "            temp_file = file_list[0]\n",
    "            temp_path = file_path + temp_file\n",
    "            # 从本地读取价量数据\n",
    "            temp_price_df = pd.read_csv(temp_path, header=None)\n",
    "            temp_price_df.columns = ['open_time','open','high','low','close','volume','close_time','quote_volume','count',\n",
    "                                'taker_buy_volume','taker_buy_quote_volume','ignore']\n",
    "            concatenated_df = temp_price_df\n",
    "        \n",
    "        concatenated_df.reset_index(drop=True, inplace=True)\n",
    "        return concatenated_df\n",
    "    \n",
    "    def calculate_theta(self, Boll_df, price_df, target_column_list=[\"close\"]):\n",
    "        '''\n",
    "        计算theta指标\n",
    "        Boll_df: 用于存放指标的df\n",
    "        price_df：原始价格的df\n",
    "        '''\n",
    "        for target_column in target_column_list:\n",
    "            # theta\n",
    "            Boll_df['mean_20_'+target_column] = price_df[[target_column]].ewm(span=20, adjust=False).mean()\n",
    "            Boll_df['std_20_'+target_column] = price_df[[target_column]].ewm(span=20, adjust=False).std()\n",
    "            Boll_df[target_column] = price_df[target_column]\n",
    "\n",
    "            # 计算偏离度 theta = (p - ma) / sigma\n",
    "            Boll_df['theta_'+target_column] = (Boll_df[target_column] - Boll_df['mean_20_'+target_column]) / Boll_df['std_20_'+target_column]\n",
    "\n",
    "        return Boll_df\n",
    "    \n",
    "    def calculate_theta_prospective_earnings(self, price_df):\n",
    "        '''\n",
    "        计算预期收益率\n",
    "        '''\n",
    "        # 计算未来均价\n",
    "        price_df['mean_10_future'] = price_df[['close']].ewm(span=10, adjust=False).mean().shift(-10)  # 首先计算均线，然后错位10个（也就是对应于未来的均价）\n",
    "        # 计算未来收益\n",
    "        price_df['prospective_earnings'] = (price_df['mean_10_future'] - price_df['close']) / price_df['close']     \n",
    "        price_df['prospective_earnings_1'] = (price_df['close'].shift(-2) - price_df['close']) / price_df['close'] \n",
    "        return price_df"
   ]
  },
  {
   "cell_type": "raw",
   "id": "09ab2269-b764-4315-90b6-08f3789ed8b7",
   "metadata": {},
   "source": [
    "# 肉眼看不出来volume有啥影响\n",
    "binance_price_df[['close','volume']].iplot(subplots=True,shape=(2,1),shared_xaxes=True,vertical_spacing=.02)"
   ]
  },
  {
   "cell_type": "markdown",
   "id": "3197d41c-6114-4385-b4db-2944c25f2251",
   "metadata": {
    "user_expressions": []
   },
   "source": [
    "# 1.数据准备 "
   ]
  },
  {
   "cell_type": "code",
   "execution_count": 103,
   "id": "0da1ad18-3803-47ad-9209-5d56d2bfaf38",
   "metadata": {},
   "outputs": [],
   "source": [
    "import random"
   ]
  },
  {
   "cell_type": "code",
   "execution_count": 104,
   "id": "e9bc6262-4fe8-45e0-bfad-6b126c8bcba1",
   "metadata": {},
   "outputs": [],
   "source": [
    "file_path = \"../data/cc_data/\"\n",
    "file_list = os.listdir(file_path)\n",
    "file_list = [x if \"csv\" in x else None for x in file_list] # 排除文件夹\n",
    "file_list.remove(None)"
   ]
  },
  {
   "cell_type": "code",
   "execution_count": 105,
   "id": "776d42c8-2ee0-4ee9-bd04-904d59df5bc9",
   "metadata": {},
   "outputs": [],
   "source": [
    "file_list.remove(None)"
   ]
  },
  {
   "cell_type": "code",
   "execution_count": 106,
   "id": "e55b71e8-7784-4f8c-a88f-9f7b0b3a8670",
   "metadata": {},
   "outputs": [],
   "source": [
    "file_list = file_list[:12]"
   ]
  },
  {
   "cell_type": "code",
   "execution_count": 107,
   "id": "618ff255-d4ef-4c65-a19e-97e277a4c35f",
   "metadata": {},
   "outputs": [],
   "source": [
    "data_loader = Data_Loader()"
   ]
  },
  {
   "cell_type": "code",
   "execution_count": 108,
   "id": "bfa8ca8c-10cc-4a1f-8a77-cc12c3d9d652",
   "metadata": {},
   "outputs": [
    {
     "data": {
      "text/plain": [
       "12"
      ]
     },
     "execution_count": 108,
     "metadata": {},
     "output_type": "execute_result"
    }
   ],
   "source": [
    "len(file_list)"
   ]
  },
  {
   "cell_type": "code",
   "execution_count": 109,
   "id": "a629b75f-90d0-494f-b241-00656665bc31",
   "metadata": {},
   "outputs": [],
   "source": [
    "train_df = data_loader.get_price_df(file_list[:6])\n",
    "test_df = data_loader.get_price_df(file_list[6:])"
   ]
  },
  {
   "cell_type": "code",
   "execution_count": 110,
   "id": "8f3bce3b-13e2-435a-9dd5-4aed43f36dac",
   "metadata": {},
   "outputs": [
    {
     "data": {
      "text/plain": [
       "(264960, 12)"
      ]
     },
     "execution_count": 110,
     "metadata": {},
     "output_type": "execute_result"
    }
   ],
   "source": [
    "train_df.shape"
   ]
  },
  {
   "cell_type": "code",
   "execution_count": 111,
   "id": "d585a9a6-ffea-4c45-947c-7cd12d76a9bf",
   "metadata": {},
   "outputs": [
    {
     "data": {
      "text/plain": [
       "(260560, 12)"
      ]
     },
     "execution_count": 111,
     "metadata": {},
     "output_type": "execute_result"
    }
   ],
   "source": [
    "test_df.shape"
   ]
  },
  {
   "cell_type": "markdown",
   "id": "3849239f-af78-4ce0-8769-5333de88b84f",
   "metadata": {
    "user_expressions": []
   },
   "source": [
    "## 1.1 计算技术指标"
   ]
  },
  {
   "cell_type": "code",
   "execution_count": 112,
   "id": "646e5df5-8b08-41a5-b94a-3c6fa108ccf9",
   "metadata": {},
   "outputs": [],
   "source": [
    "train_theta_df = pd.DataFrame()\n",
    "test_theta_df = pd.DataFrame()\n",
    "\n",
    "train_theta_df[\"close\"] = train_df[\"close\"]\n",
    "test_theta_df[\"close\"] = test_df[\"close\"]\n",
    "\n",
    "# target_columns_list = ['open','high','low','close','quote_volume', 'taker_buy_volume', 'taker_buy_quote_volume']  # 需要计算theta的对应列\n",
    "target_columns_list = ['close'] \n",
    "\n",
    "train_theta_df = data_loader.calculate_theta(train_theta_df, train_df, target_columns_list)\n",
    "test_theta_df = data_loader.calculate_theta(test_theta_df, test_df, target_columns_list)\n",
    "\n",
    "train_theta_df.dropna(inplace=True)\n",
    "test_theta_df.dropna(inplace=True)"
   ]
  },
  {
   "cell_type": "markdown",
   "id": "8c51f340-fdf9-4c21-949a-d6f415b46b5c",
   "metadata": {
    "user_expressions": []
   },
   "source": [
    "## 1.3 采样X和y"
   ]
  },
  {
   "cell_type": "code",
   "execution_count": 115,
   "id": "47c09278-acb2-428b-bf4f-995e2e7ba76f",
   "metadata": {},
   "outputs": [],
   "source": [
    "train_theta_df = data_loader.calculate_theta_prospective_earnings(train_theta_df)\n",
    "test_theta_df = data_loader.calculate_theta_prospective_earnings(test_theta_df)"
   ]
  },
  {
   "cell_type": "code",
   "execution_count": 116,
   "id": "11151da0-fd0e-4282-aff9-04c4de0b2148",
   "metadata": {},
   "outputs": [],
   "source": [
    "train_theta_df.dropna(inplace=True)\n",
    "test_theta_df.dropna(inplace=True)"
   ]
  },
  {
   "cell_type": "code",
   "execution_count": 117,
   "id": "a3321ddf-0bbb-4ba7-b1c1-f0ca39d876be",
   "metadata": {},
   "outputs": [],
   "source": [
    "def Sample_random(data_df, target_columns_list, sample_num=20, time_range=2):\n",
    "    '''随机采样'''\n",
    "    # 采样随机时间点\n",
    "    time_range = time_range-1\n",
    "    index = np.arange(0, len(train_theta_df)-1, time_range)\n",
    "    random_index = index[index>=time_range][:sample_num]\n",
    "    \n",
    "    sample_x_list = []\n",
    "    sample_y_list = []\n",
    "    for index in random_index:\n",
    "        temp_df = data_df.iloc[index-time_range:index+1,:]  # 此处需要加1因为要包含index所在的时刻\n",
    "        temp_df = np.array(temp_df[target_columns_list])\n",
    "        sample_x_list.append(temp_df)\n",
    "        \n",
    "        temp_y = data_df.iloc[index+1,:]\n",
    "        sample_y_list.append(temp_y['prospective_earnings'])  # 此处将return保存\n",
    "\n",
    "    sample_X = np.stack(sample_x_list)\n",
    "    sample_y = np.stack(sample_y_list)\n",
    "    assert sample_X.shape[0] == sample_y.shape[0] , '采样X与y数量不一致'\n",
    "    \n",
    "    return sample_X, sample_y"
   ]
  },
  {
   "cell_type": "code",
   "execution_count": 38,
   "id": "81e0713f-c6fa-4506-b2ca-466f01e10ae9",
   "metadata": {},
   "outputs": [],
   "source": [
    "target_columns = [\"theta_\"+x for x in target_columns_list]"
   ]
  },
  {
   "cell_type": "code",
   "execution_count": 82,
   "id": "32f03a8f-4557-4b9c-8ddc-311f6637c5aa",
   "metadata": {},
   "outputs": [],
   "source": [
    "n_train = 100000\n",
    "n_test = 100000"
   ]
  },
  {
   "cell_type": "code",
   "execution_count": 83,
   "id": "bfdd8fb7-b407-4106-90d4-5df256b678f7",
   "metadata": {},
   "outputs": [],
   "source": [
    "origin_train_X, origin_train_y = Sample_random(train_theta_df, target_columns, sample_num=n_train)\n",
    "origin_test_X, origin_test_y = Sample_random(test_theta_df, target_columns, sample_num=n_test)"
   ]
  },
  {
   "cell_type": "code",
   "execution_count": 84,
   "id": "c2c3c35b-d0b7-4e80-884c-df92ddcde603",
   "metadata": {},
   "outputs": [
    {
     "name": "stdout",
     "output_type": "stream",
     "text": [
      "sample_X.shape:  (100000, 2, 1)\n",
      "sample_y.shape:  (100000,)\n"
     ]
    }
   ],
   "source": [
    "print(\"sample_X.shape: \", origin_train_X.shape)\n",
    "print(\"sample_y.shape: \", origin_train_y.shape)"
   ]
  },
  {
   "cell_type": "code",
   "execution_count": 85,
   "id": "a64d4a69-bb39-4253-85d3-5cc55a3890dc",
   "metadata": {},
   "outputs": [
    {
     "name": "stdout",
     "output_type": "stream",
     "text": [
      "sample_test_X.shape:  (100000, 2, 1)\n",
      "sample_test_y.shape:  (100000,)\n"
     ]
    }
   ],
   "source": [
    "print(\"sample_test_X.shape: \", origin_test_X.shape)\n",
    "print(\"sample_test_y.shape: \", origin_test_y.shape)"
   ]
  },
  {
   "cell_type": "markdown",
   "id": "7b72f7eb-2572-47c5-a2b9-9be83dddcf9f",
   "metadata": {
    "user_expressions": []
   },
   "source": [
    "# 2. 模型训练"
   ]
  },
  {
   "cell_type": "code",
   "execution_count": 86,
   "id": "6f1031d4-9155-48cb-a941-1f72ace7a85b",
   "metadata": {},
   "outputs": [],
   "source": [
    "from xgboost import XGBRegressor"
   ]
  },
  {
   "cell_type": "code",
   "execution_count": 87,
   "id": "c16da0cf-c38b-48b8-8971-dd7a7198069b",
   "metadata": {},
   "outputs": [],
   "source": [
    "sample_X, sample_y = origin_train_X, origin_train_y\n",
    "\n",
    "sample_X = sample_X.reshape((len(sample_X),-1))\n",
    "test_X = origin_test_X.reshape((len(origin_test_X),-1))\n",
    "test_y = origin_test_y"
   ]
  },
  {
   "cell_type": "code",
   "execution_count": 88,
   "id": "b04232b5-6b7d-48be-a33d-3c97d5c15323",
   "metadata": {},
   "outputs": [],
   "source": [
    "kwars = {\n",
    "            \"eval_metric\": \"rmse\",\n",
    "            \"colsample_bytree\": 0.8879,\n",
    "            \"eta\": 0.0421,\n",
    "            \"max_depth\": 4,\n",
    "            \"n_estimators\": 100,\n",
    "            \"subsample\": 0.8789,\n",
    "            \"nthread\": 20,\n",
    "}\n",
    "\n",
    "xgb = XGBRegressor(**kwars)"
   ]
  },
  {
   "cell_type": "code",
   "execution_count": 89,
   "id": "d7ea03a2-864d-45fd-b08b-2fc36905974f",
   "metadata": {},
   "outputs": [
    {
     "data": {
      "text/plain": [
       "XGBRegressor(base_score=0.5, booster='gbtree', colsample_bylevel=1,\n",
       "             colsample_bynode=1, colsample_bytree=0.8879, eta=0.0421,\n",
       "             eval_metric='rmse', gamma=0, gpu_id=-1, importance_type='gain',\n",
       "             interaction_constraints='', learning_rate=0.0421000011,\n",
       "             max_delta_step=0, max_depth=4, min_child_weight=1, missing=nan,\n",
       "             monotone_constraints='()', n_estimators=100, n_jobs=20, nthread=20,\n",
       "             num_parallel_tree=1, objective='reg:squarederror', random_state=0,\n",
       "             reg_alpha=0, reg_lambda=1, scale_pos_weight=1, subsample=0.8789,\n",
       "             tree_method='exact', validate_parameters=1, verbosity=None)"
      ]
     },
     "execution_count": 89,
     "metadata": {},
     "output_type": "execute_result"
    }
   ],
   "source": [
    "xgb.fit(sample_X, sample_y)"
   ]
  },
  {
   "cell_type": "code",
   "execution_count": 90,
   "id": "4f1938cb-6f31-4271-b006-83ecdd9d6f54",
   "metadata": {},
   "outputs": [],
   "source": [
    "pred_y = xgb.predict(test_X)"
   ]
  },
  {
   "cell_type": "code",
   "execution_count": 91,
   "id": "1b487835-f6a8-4d58-9306-21eb4ff619f1",
   "metadata": {},
   "outputs": [],
   "source": [
    "from sklearn.metrics import mean_absolute_error"
   ]
  },
  {
   "cell_type": "code",
   "execution_count": 92,
   "id": "76e3ed50-36d0-4066-b47b-9f6b193af427",
   "metadata": {},
   "outputs": [
    {
     "data": {
      "text/plain": [
       "0.006807028826189966"
      ]
     },
     "execution_count": 92,
     "metadata": {},
     "output_type": "execute_result"
    }
   ],
   "source": [
    "mean_absolute_error(pred_y, test_y)"
   ]
  },
  {
   "cell_type": "code",
   "execution_count": 93,
   "id": "fc126d10-59b2-4b45-ae27-dc1e6356e135",
   "metadata": {},
   "outputs": [],
   "source": [
    "y_df = pd.DataFrame({\"pred_y\":pred_y,\"sample_y\":test_y})"
   ]
  },
  {
   "cell_type": "code",
   "execution_count": 94,
   "id": "8d4df528-9912-4277-8924-ebde6f09e6ec",
   "metadata": {},
   "outputs": [
    {
     "data": {
      "text/plain": [
       "0.0642196955781763"
      ]
     },
     "execution_count": 94,
     "metadata": {},
     "output_type": "execute_result"
    }
   ],
   "source": [
    "y_df[['pred_y','sample_y']].corr().iloc[0,1]"
   ]
  },
  {
   "cell_type": "code",
   "execution_count": 118,
   "id": "ec65a389-1023-4815-9a22-d2856daaac56",
   "metadata": {},
   "outputs": [
    {
     "data": {
      "text/plain": [
       "-0.09854248477671587"
      ]
     },
     "execution_count": 118,
     "metadata": {},
     "output_type": "execute_result"
    }
   ],
   "source": [
    "train_theta_df[:50000][['theta_close','prospective_earnings']].corr().iloc[0,1]"
   ]
  },
  {
   "cell_type": "code",
   "execution_count": 119,
   "id": "e7579705-19d4-4235-aaef-bda189cce033",
   "metadata": {},
   "outputs": [
    {
     "data": {
      "text/plain": [
       "-0.09583240135459803"
      ]
     },
     "execution_count": 119,
     "metadata": {},
     "output_type": "execute_result"
    }
   ],
   "source": [
    "train_theta_df[['theta_close','prospective_earnings_1']].corr().iloc[0,1]"
   ]
  },
  {
   "cell_type": "code",
   "execution_count": 120,
   "id": "1130a249-15e0-4e78-b660-a2cd3729902b",
   "metadata": {},
   "outputs": [],
   "source": [
    "train_theta_df[\"minus_theta\"] = -1*train_theta_df[\"theta_close\"]"
   ]
  },
  {
   "cell_type": "code",
   "execution_count": 121,
   "id": "1d54ef95-087d-44fb-909e-a156d557d771",
   "metadata": {},
   "outputs": [
    {
     "data": {
      "text/plain": [
       "0.09583240135459803"
      ]
     },
     "execution_count": 121,
     "metadata": {},
     "output_type": "execute_result"
    }
   ],
   "source": [
    "train_theta_df[['minus_theta','prospective_earnings_1']].corr().iloc[0,1]"
   ]
  },
  {
   "cell_type": "code",
   "execution_count": null,
   "id": "221649d5-620f-44cf-a898-4677f9b1597a",
   "metadata": {},
   "outputs": [],
   "source": []
  },
  {
   "cell_type": "code",
   "execution_count": null,
   "id": "f0fc024d-30ba-4bf2-87be-844f722e809f",
   "metadata": {},
   "outputs": [],
   "source": []
  },
  {
   "cell_type": "code",
   "execution_count": null,
   "id": "58bf6638-a348-4d9e-b9d3-a9e811cc17c5",
   "metadata": {},
   "outputs": [],
   "source": []
  },
  {
   "cell_type": "code",
   "execution_count": null,
   "id": "c3c73b67-0dbf-430e-821f-2466694d2176",
   "metadata": {},
   "outputs": [],
   "source": []
  },
  {
   "cell_type": "markdown",
   "id": "50d1273e-4733-4e08-a74a-6ee833fca287",
   "metadata": {
    "user_expressions": []
   },
   "source": [
    "## 2.2 LSTM"
   ]
  },
  {
   "cell_type": "raw",
   "id": "66772f4d-23b4-4432-99f1-f3717dcb7881",
   "metadata": {},
   "source": [
    "import numpy as np\n",
    "import tensorflow as tf\n",
    "from tensorflow import keras\n",
    "from tensorflow.keras import layers, Sequential\n",
    "from tensorflow.keras.layers import LSTM, Dropout\n",
    "from tensorflow.python.keras.layers import Layer\n",
    "\n",
    "physical_devices = tf.config.list_physical_devices('GPU')\n",
    "tf.config.experimental.set_memory_growth(physical_devices[0], enable=True)"
   ]
  },
  {
   "cell_type": "raw",
   "id": "65a7b10b-4eef-4d0e-86d3-6b939ab049e2",
   "metadata": {},
   "source": [
    "input_dim = 2\n",
    "output_size = 1\n",
    "time_range = 10\n",
    "\n",
    "inputs = keras.Input(shape=(time_range, input_dim),  name='inputs')\n",
    "encoded_feats = LSTM(32, input_length=time_range, return_sequences=False, name='lstm_basic2')(inputs)\n",
    "encoded_feats = Dropout(rate=0.5)(encoded_feats)\n",
    "outputs = keras.layers.Dense(1)(encoded_feats)\n",
    "\n",
    "model = keras.Model(inputs=inputs, \n",
    "                    outputs=outputs, \n",
    "                    name=\"lstm_model\")"
   ]
  },
  {
   "cell_type": "raw",
   "id": "c8dd87d9-6a04-41ff-a4db-21cabedd52ec",
   "metadata": {
    "jupyter": {
     "outputs_hidden": true
    },
    "tags": []
   },
   "source": [
    "model.summary()"
   ]
  },
  {
   "cell_type": "raw",
   "id": "8931f6d0-6881-48eb-b55d-6d4c81a57177",
   "metadata": {},
   "source": [
    "# 配置\n",
    "adam_opt = keras.optimizers.Adam(lr=0.001, beta_1=0.9, beta_2=0.99, epsilon=1e-08, decay=0.0)\n",
    "\n",
    "model.compile(\n",
    "    # loss=keras.losses.SparseCategoricalCrossentropy(from_logits=True),\n",
    "    loss=\"mean_squared_error\",\n",
    "    optimizer=adam_opt,\n",
    ")"
   ]
  },
  {
   "cell_type": "raw",
   "id": "beb28003-7c7a-4355-8980-ac4b6940e7a6",
   "metadata": {},
   "source": [
    "sample_X, sample_y = origin_X, origin_y\n",
    "test_X,test_y = origin_test_X, origin_test_y"
   ]
  },
  {
   "cell_type": "raw",
   "id": "d558e4c2-6f99-42f3-89a1-582df8b406d8",
   "metadata": {
    "tags": []
   },
   "source": [
    "# 训练\n",
    "batch_size = 1024\n",
    "\n",
    "history = model.fit(\n",
    "    sample_X, sample_y, \n",
    "    validation_data=(test_X, test_y),\n",
    "    batch_size=batch_size,\n",
    "    epochs=1000,\n",
    "#     callbacks=[tensorboard_callback]\n",
    ")"
   ]
  },
  {
   "cell_type": "markdown",
   "id": "a8a8633f-6280-4d92-bbc6-50594271ef95",
   "metadata": {
    "user_expressions": []
   },
   "source": [
    "# 3. 模型评价"
   ]
  }
 ],
 "metadata": {
  "kernelspec": {
   "display_name": "pythonlab(python3.8)",
   "language": "python",
   "name": "pythonlabkernel"
  },
  "language_info": {
   "codemirror_mode": {
    "name": "ipython",
    "version": 3
   },
   "file_extension": ".py",
   "mimetype": "text/x-python",
   "name": "python",
   "nbconvert_exporter": "python",
   "pygments_lexer": "ipython3",
   "version": "3.8.0"
  }
 },
 "nbformat": 4,
 "nbformat_minor": 5
}
